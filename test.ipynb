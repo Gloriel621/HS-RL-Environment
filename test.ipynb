{
 "cells": [
  {
   "cell_type": "code",
   "execution_count": null,
   "metadata": {},
   "outputs": [],
   "source": [
    "# https://www.hearthpwn.com/news/8230-mysteries-of-the-phoenix-druid-and-hunter-puzzles\n",
    "from environment import Environment"
   ]
  },
  {
   "cell_type": "code",
   "execution_count": null,
   "metadata": {},
   "outputs": [],
   "source": [
    "# Baloon_Merchant 0\n",
    "# Armor_Vender 1\n",
    "# Barrens_Blacksmith 2\n",
    "# Darkshire_Alchemist 3\n",
    "# Shady_dealer 4\n",
    "# Master_Swordsmith 5\n",
    "# Drakkari_Enchanter 6\n",
    "\n",
    "# dalaran_mage 7\n",
    "# bloodsail_corsair 8\n",
    "# violet_apprentice 9\n",
    "# silver_hand_knight 10\n",
    "# darnassus_aspirant 11\n",
    "# windspeaker 12\n",
    "# defender_of_argus 13"
   ]
  },
  {
   "cell_type": "code",
   "execution_count": null,
   "metadata": {},
   "outputs": [],
   "source": [
    "action_list = [5, 1, 3, 0, 10, 5, 1, 3, 9, 5, 3, 2, 8, 11, 1, 6, 13, 1, 3, 12, 6, 8, 1, 6, 1, 4, 11,\n",
    "               4, 3, 2, 1, 13, 3, 11, 3, 5, 5, 1, 10, 2, 5, 7, 2, 5, 8, 1, 3, 13, 1, 3, 6, 10, 0, 1,\n",
    "               12, 5, 0, 4, 7, 0, 1, 3, 11, 5, 3, 2, 9, 0, 1, 3, 5, 12, 5, 3, 2, 0, 13, 6, 3, 8, 0, 1,\n",
    "               4, 7, 5, 6, 11, 5, 0, 4, 9, 4, 7, 1, 6, 1, 10, 3, 5, 8, 0, 1, 3, 12, 3, 10, 5, 3, 2, 0,\n",
    "               9, 5, 12, 2, 7, 2, 4, 9, 0, 13]"
   ]
  },
  {
   "cell_type": "code",
   "execution_count": null,
   "metadata": {},
   "outputs": [],
   "source": [
    "env = Environment()\n",
    "env.reset()\n",
    "for action in action_list:\n",
    "    state, reward, done = env.step(action)\n",
    "\n",
    "    done = 0\n",
    "\n",
    "    # for goods in env.state.hand:\n",
    "    #     if env.state.hand[goods] != 0:\n",
    "    #         print(f\"{goods}: {env.state.hand[goods]}\")\n",
    "\n",
    "    print(f\"num_done : {env.num_solved}, step : {env.num_steps}\")"
   ]
  }
 ],
 "metadata": {
  "interpreter": {
   "hash": "79bcad3b76df904fc1acf95fdc9450558f2167c0701e9f7498962449329e818b"
  },
  "kernelspec": {
   "display_name": "Python 3.8.5 64-bit ('frost': conda)",
   "language": "python",
   "name": "python3"
  },
  "language_info": {
   "name": "python",
   "version": "3.8.5"
  },
  "orig_nbformat": 4
 },
 "nbformat": 4,
 "nbformat_minor": 2
}
